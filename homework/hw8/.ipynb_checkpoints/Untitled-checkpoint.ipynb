{
 "cells": [
  {
   "cell_type": "code",
   "execution_count": 31,
   "id": "82a2d55b-6650-4e4c-8e64-1d16cb9b4a48",
   "metadata": {},
   "outputs": [],
   "source": [
    "import numpy as np\n",
    "import pandas as pd\n",
    "import jax\n",
    "from jax import grad\n",
    "import jax.numpy as jnp\n",
    "from sklearn.datasets import fetch_openml\n",
    "\n",
    "import matplotlib.pyplot as plt\n",
    "\n",
    "datapath = \"./\""
   ]
  },
  {
   "cell_type": "code",
   "execution_count": 2,
   "id": "96984f33-e15b-4bae-9b58-dc887a8495fd",
   "metadata": {},
   "outputs": [],
   "source": [
    "def train_test_split(*arrays, test_size=0.2, shuffle=True, rand_seed=0):\n",
    "    # set the random state if provided\n",
    "    np.random.seed(rand_seed)\n",
    "\n",
    "    # initialize the split index\n",
    "    array_len = len(arrays[0].T)\n",
    "    split_idx = int(array_len * (1 - test_size))\n",
    "\n",
    "    # initialize indices to the default order\n",
    "    indices = np.arange(array_len)\n",
    "\n",
    "    # shuffle the arrays if shuffle is True\n",
    "    if shuffle:\n",
    "        np.random.shuffle(indices)\n",
    "\n",
    "    # Split the arrays\n",
    "    result = []\n",
    "    for array in arrays:\n",
    "        if shuffle:\n",
    "            array = array[:, indices]\n",
    "        train = array[:, :split_idx]\n",
    "        test = array[:, split_idx:]\n",
    "        result.extend([train, test])\n",
    "\n",
    "    return result"
   ]
  },
  {
   "cell_type": "markdown",
   "id": "5f0dfc7f-496a-4e0c-af00-38cecb5b69cc",
   "metadata": {},
   "source": [
    "# Task 1"
   ]
  },
  {
   "cell_type": "code",
   "execution_count": 72,
   "id": "b4626995-8be8-42ea-89c9-8068d255d7ae",
   "metadata": {},
   "outputs": [
    {
     "name": "stdout",
     "output_type": "stream",
     "text": [
      "(7128, 72)\n",
      "(1, 72)\n"
     ]
    }
   ],
   "source": [
    "csvname = datapath + 'new_gene_data.csv'\n",
    "data = np.loadtxt(csvname, delimiter=',')\n",
    "x = data[:-1, :]\n",
    "y = data[-1:, :]\n",
    "\n",
    "print(np.shape(x))  # (7128, 72)\n",
    "print(np.shape(y))  # (1, 72)"
   ]
  },
  {
   "cell_type": "code",
   "execution_count": 324,
   "id": "f02c56d0-830c-424c-8223-575a14d6047d",
   "metadata": {},
   "outputs": [],
   "source": [
    "def standard_normalization(x):\n",
    "    \"\"\"\n",
    "    x: input N; (dimensions) * P (samples)\n",
    "    return: standardized_x; N (dimensions) * P (samples)\n",
    "    \"\"\"\n",
    "    standardized_x = ( ( x.T - x.mean(axis=1) ) / x.std(axis=1) ).T\n",
    "    standardized_x = jnp.nan_to_num(standardized_x, nan=0)\n",
    "    return standardized_x\n",
    "\n",
    "def center(x):\n",
    "    standardized_x = (x.T - x.mean(axis=1)).T\n",
    "    return standardized_x\n",
    "\n",
    "def compute_pcs(x, lam):\n",
    "    p = float(x.shape[1])\n",
    "    cov = 1/p * np.dot(x, x.T) + lam*np.eye(x.shape[0]) # adding lam to prevent numerical stability\n",
    "    D, V = np.linalg.eigh(cov)\n",
    "    return D, V\n",
    "\n",
    "def pca_transform_data(x, **kwargs):\n",
    "    num_components = x.shape[0]\n",
    "    if 'num_components' in kwargs:\n",
    "        num_components = kwargs[\"num_components\"]\n",
    "    lam = 1e-7\n",
    "    if \"lam\" in kwargs:\n",
    "        lam = kwargs[\"lam\"]\n",
    "    \n",
    "    D, V = compute_pcs(x, lam)\n",
    "    V = V[:, -num_components:]\n",
    "    D = D[-num_components:]\n",
    "    \n",
    "    # compute transformed data for PC space\n",
    "    w = np.dot(V.T, x)\n",
    "    return w, V\n",
    "\n",
    "def model(x, w): \n",
    "\t\"\"\"\n",
    "\tinput: \n",
    "\t- x: shape (N, P)  \n",
    "\t- W: shape (N+1, 1) \n",
    "\n",
    "\toutput: \n",
    "\t- prediction: shape (1, P) \n",
    "\t\"\"\"\n",
    "\t# tack a 1 onto the top of each input point all at once\n",
    "\to = jnp.ones((1, np.shape(x)[1]))\n",
    "\tf = jnp.vstack((o, x))\n",
    "\t# compute linear combination and return\n",
    "\ta = jnp.dot(f.T,w)\n",
    "\treturn a\n",
    "\n",
    "def softmax_cost(w, x, y, lamb):\n",
    "    evals = model(x, w)\n",
    "    # log-sum-exp trick\n",
    "    max_eval = jnp.max(-y*evals)\n",
    "    # cost = max_eval + jnp.log(1+jnp.exp(-y*evals-max_eval) )\n",
    "    cost = jnp.sum(jnp.log(1 + jnp.exp(-y*evals))) \n",
    "    # cost = jnp.sum(  max_eval + jnp.log( jnp.exp(-max_eval) + jnp.exp(-y*evals - max_eval))  )\n",
    "    # using l1 norm to regularize feature-touching weights\n",
    "    w_feature_touching = w[1:]\n",
    "    cost_regularizer = lamb*jnp.sum(jnp.abs(w_feature_touching))\n",
    "    cost_total = cost + cost_regularizer\n",
    "    return cost_total / y.flatten().size\n",
    "\n",
    "\n",
    "def gradient_descent_adam(cost_func, x, y, w_initial=None, alpha=1e-2, lamb=1e-3, iterations=500):\n",
    "\t\"\"\"\n",
    "\t:param w_initial:\n",
    "\t:param cost_func:\n",
    "\t:param x: a array of N_features*N_samples; rows are each feature; each column is a sample\n",
    "\t:param y: a array of the same size of N_samples\n",
    "\t:param alpha: learning rate\n",
    "    :param lamb: l1 norm regularization factor\n",
    "\t:param iterations: optimization iterastion\n",
    "\t:return: w_history, cost_history (both are in the list type)\n",
    "\t\"\"\"\n",
    "\tgradient = grad(cost_func, argnums=0)\n",
    "\n",
    "\t# w = np.array([3.,3.])\n",
    "\tw_dim = x.shape[0] + 1\n",
    "\tif w_initial is not None:\n",
    "\t\tw = w_initial\n",
    "\t\tassert len(w) == w_dim\n",
    "\telse:\n",
    "\t\tw = np.random.rand(w_dim)*0.005\n",
    "\tcost = cost_func(w, x, y, lamb)\n",
    "\tw_history = [w, ]\n",
    "\tcost_history = [cost, ]\n",
    "\talpha_initial = np.empty(0)\n",
    "\talpha_initial.fill(alpha)  # learning rate for w0 and w1\n",
    "\tbeta = 0.9\n",
    "\tbeta_2 = 0.999\n",
    "\tepsilon = 1e-8\n",
    "\tgrad_history = [gradient(w, x, y, lamb), ]\n",
    "\tmomentum_history = [np.zeros(w_dim), ]\n",
    "\tsecondary_list = [np.zeros(w_dim), ]\n",
    "\n",
    "\tfor i in np.arange(1, iterations, 1):\n",
    "\t\t# get gradient\n",
    "\t\tw_grad = gradient(w, x, y, lamb)\n",
    "\t\tgrad_history.append(w_grad)\n",
    "\n",
    "\t\t# get momentum\n",
    "\t\tmomentum = (1 - beta) * w_grad + beta * momentum_history[-1]\n",
    "\t\tmomentum_history.append(momentum)\n",
    "\n",
    "\t\t# second derivative estimate\n",
    "\t\tw_grad_square = w_grad ** 2\n",
    "\t\tsecondary = beta_2 * secondary_list[-1] + (1 - beta_2) * w_grad_square\n",
    "\t\tsecondary_list.append(secondary)\n",
    "\n",
    "\t\t# momentum with normalization <-- adam\n",
    "\t\tw = w - ((alpha * momentum / (1 - jnp.power(beta, i))) / (\n",
    "\t\t\t\t\tjnp.sqrt(secondary / (1 - jnp.power(beta_2, i))) + epsilon))\n",
    "\t\tw_history.append(w)\n",
    "\n",
    "\t\t# cost\n",
    "\t\tcost = cost_func(w, x, y, lamb)\n",
    "\t\tcost_history.append(cost)\n",
    "\n",
    "\treturn w_history, cost_history"
   ]
  },
  {
   "cell_type": "code",
   "execution_count": 330,
   "id": "26f96959-f81f-4d95-8983-29d883877afb",
   "metadata": {},
   "outputs": [],
   "source": [
    "def eval_model_error(w, x, y):\n",
    "    \"\"\"\n",
    "    - x: shape (N, P)  \n",
    "    - w: shape (N+1, 1) \n",
    "    - y: shape (P, )\n",
    "    \"\"\"\n",
    "    # print(\"w.shape: \", w.shape)\n",
    "    # print(\"x.shape: \", x.shape)\n",
    "    # print(\"y.shape: \", y.shape)\n",
    "    evals = model(x, w)\n",
    "    pred_y = jnp.sign(evals)\n",
    "    miss = jnp.count_nonzero(pred_y-y) # nonzeror means the labels are different <-- missclassifications\n",
    "    return miss / y.flatten().size"
   ]
  },
  {
   "cell_type": "code",
   "execution_count": 199,
   "id": "08a7dad7-819e-495c-b0ab-e8f5ce41dbfd",
   "metadata": {},
   "outputs": [],
   "source": [
    "x_standardized = standard_normalization(x)\n",
    "\n",
    "# split into training and testing first\n",
    "X_training, X_testing = train_test_split(x_standardized, test_size=0.2, shuffle=True, rand_seed=0)\n",
    "Y_training, Y_testing = train_test_split(y, test_size=0.2, shuffle=True, rand_seed=0)"
   ]
  },
  {
   "cell_type": "code",
   "execution_count": 262,
   "id": "192c17a9-0f3f-4b4d-a6cf-60b15c0d24dc",
   "metadata": {},
   "outputs": [
    {
     "data": {
      "text/plain": [
       "57"
      ]
     },
     "execution_count": 262,
     "metadata": {},
     "output_type": "execute_result"
    }
   ],
   "source": []
  },
  {
   "cell_type": "code",
   "execution_count": 256,
   "id": "1d27e383-9768-40ae-b304-2bbcd585220f",
   "metadata": {},
   "outputs": [
    {
     "data": {
      "text/plain": [
       "(7128, 57)"
      ]
     },
     "execution_count": 256,
     "metadata": {},
     "output_type": "execute_result"
    }
   ],
   "source": [
    "X_training.shape"
   ]
  },
  {
   "cell_type": "code",
   "execution_count": 258,
   "id": "4198c1fb-2b29-4098-8059-ee1ead13e301",
   "metadata": {},
   "outputs": [
    {
     "data": {
      "text/plain": [
       "(7128, 15)"
      ]
     },
     "execution_count": 258,
     "metadata": {},
     "output_type": "execute_result"
    }
   ],
   "source": [
    "X_testing.shape"
   ]
  },
  {
   "cell_type": "code",
   "execution_count": 257,
   "id": "67c3c1ec-b616-4a7e-972e-2f01c155ef9c",
   "metadata": {},
   "outputs": [
    {
     "data": {
      "text/plain": [
       "(1, 57)"
      ]
     },
     "execution_count": 257,
     "metadata": {},
     "output_type": "execute_result"
    }
   ],
   "source": [
    "Y_training.shape"
   ]
  },
  {
   "cell_type": "code",
   "execution_count": 259,
   "id": "9480a57d-9d3d-49fc-b314-e689c433c227",
   "metadata": {},
   "outputs": [
    {
     "data": {
      "text/plain": [
       "(1, 15)"
      ]
     },
     "execution_count": 259,
     "metadata": {},
     "output_type": "execute_result"
    }
   ],
   "source": [
    "Y_testing.shape"
   ]
  },
  {
   "cell_type": "markdown",
   "id": "352b7f88-bdf9-4e72-ae6d-d006f4396c26",
   "metadata": {},
   "source": [
    "# Learning rate and lambda (with K-fold cross validation error)\n",
    "\n",
    "1. combinations of learning rate and lambda values (hyperparameter search list);\n",
    "2. train model on the training data to completion;\n",
    "3. calculate validation error using the validation portion from K-fold;\n",
    "4. since we have K-fold, we need to average the validation errors (store the result);\n",
    "5. according to the validation error of each combination (learning rate and lambda);\n",
    "6. traing all data using the found optimatized hyperparameter combination."
   ]
  },
  {
   "cell_type": "code",
   "execution_count": 304,
   "id": "f4691862-2d6a-42c5-a3d3-f7b40fd6e476",
   "metadata": {},
   "outputs": [],
   "source": [
    "def k_fold_cross_validation(X, y, cost_function, hyperparams, k=5, rand_seed=0):\n",
    "    np.random.seed(rand_seed)\n",
    "    # this is for searching hyperparams: learning rate and lambda\n",
    "    alpha, lamb = hyperparams\n",
    "    \n",
    "    # Shuffle the data\n",
    "    indices = np.random.permutation(len(X[0]))\n",
    "    X_shuffled = X[:, indices]\n",
    "    y_shuffled = y[:, indices]\n",
    "    \n",
    "    # Split the data into k folds\n",
    "    fold_size = len(X[0]) // k\n",
    "    folds_X = [X_shuffled[:, i * fold_size:(i + 1) * fold_size] for i in range(k)]\n",
    "    folds_y = [y_shuffled[:, i * fold_size:(i + 1) * fold_size] for i in range(k)]\n",
    "    \n",
    "    validation_error_list = []\n",
    "    cost_kfold = []\n",
    "    for i in range(k):\n",
    "        # Select the current fold as the validation set\n",
    "        X_val, y_val = folds_X[i], folds_y[i]\n",
    "\n",
    "        # Use the remaining folds for training\n",
    "        X_train = np.concatenate([fold for j, fold in enumerate(folds_X) if j != i], axis=1)\n",
    "        y_train = np.concatenate([fold for j, fold in enumerate(folds_y) if j != i], axis=1)\n",
    "\n",
    "        # Train your model (replace this with your actual model training code)\n",
    "        # model.fit(X_train, y_train)\n",
    "        w_history, cost_history = gradient_descent_adam(cost_function, X_train, y_train, w_initial=None,\\\n",
    "                                                alpha=alpha, lamb=lamb, iterations=100)\n",
    "        # print(cost_history[-1])\n",
    "        if cost_history[-1] > 1.0:\n",
    "            print(f\"searching alpha={alpha}, lambda={lamb} in fold {i}: the cost function is not fully converged {cost_history[-1]}!\")\n",
    "        cost_kfold.append(cost_history)\n",
    "\n",
    "        # Evaluate the model on the validation set\n",
    "        validation_error = eval_model_error(w_history[-1], X_val, y_val)\n",
    "        validation_error_list.append(validation_error)\n",
    "    \n",
    "    # plot\n",
    "    # for idx,j in enumerate(cost_kfold):\n",
    "    #     plt.plot(j, label=str(idx))\n",
    "    # plt.legend()\n",
    "    # plt.show()\n",
    "    return np.mean(validation_error_list)"
   ]
  },
  {
   "cell_type": "code",
   "execution_count": 302,
   "id": "b12f10f6-445e-47eb-9d8a-fa6f949407b1",
   "metadata": {},
   "outputs": [
    {
     "name": "stdout",
     "output_type": "stream",
     "text": [
      "0.8190179\n",
      "0.8252478\n",
      "0.82983387\n",
      "0.82666236\n"
     ]
    },
    {
     "data": {
      "text/plain": [
       "0.053571433"
      ]
     },
     "execution_count": 302,
     "metadata": {},
     "output_type": "execute_result"
    }
   ],
   "source": [
    "# maybe four fold\n",
    "k_fold_cross_validation(X_training, Y_training, softmax_cost, hyperparams=(1e-3, 10), k=4, rand_seed=0)"
   ]
  },
  {
   "cell_type": "code",
   "execution_count": 315,
   "id": "cc5762de-415f-43a3-b4b9-9eea2c6052d5",
   "metadata": {},
   "outputs": [],
   "source": [
    "from itertools import product\n",
    "# searching regularizer\n",
    "lamb_list = [10., 5., 2.0, 1e-1, 1e-2]\n",
    "# search learning rate\n",
    "alpha_list = [1e0, 1e-1, 1e-2, 1e-3]\n",
    "hyperparameter_combination_list = list(product(alpha_list, lamb_list))"
   ]
  },
  {
   "cell_type": "code",
   "execution_count": 314,
   "id": "53a412f0-1b9f-446c-b2e5-5caa4823b71c",
   "metadata": {},
   "outputs": [
    {
     "data": {
      "text/plain": [
       "[(1.0, 10.0), (1.0, 5.0), (1.0, 2.0)]"
      ]
     },
     "execution_count": 314,
     "metadata": {},
     "output_type": "execute_result"
    }
   ],
   "source": [
    "hyperparameter_combination_list[:3]"
   ]
  },
  {
   "cell_type": "code",
   "execution_count": 316,
   "id": "57e1053d-87ab-41ea-989b-a69f882c5e29",
   "metadata": {},
   "outputs": [
    {
     "name": "stdout",
     "output_type": "stream",
     "text": [
      "searching alpha=0.1, lambda=10.0 in fold 3: the cost function is not fully converged 20.909934997558594!\n",
      "searching alpha=0.01, lambda=10.0 in fold 0: the cost function is not fully converged 2.5443150997161865!\n",
      "searching alpha=0.01, lambda=10.0 in fold 1: the cost function is not fully converged 2.5975875854492188!\n",
      "searching alpha=0.01, lambda=10.0 in fold 2: the cost function is not fully converged 2.5519378185272217!\n",
      "searching alpha=0.01, lambda=10.0 in fold 3: the cost function is not fully converged 2.5886218547821045!\n",
      "searching alpha=0.01, lambda=5.0 in fold 0: the cost function is not fully converged 1.3757481575012207!\n",
      "searching alpha=0.01, lambda=5.0 in fold 1: the cost function is not fully converged 1.3833303451538086!\n",
      "searching alpha=0.01, lambda=5.0 in fold 2: the cost function is not fully converged 1.362075686454773!\n",
      "searching alpha=0.01, lambda=5.0 in fold 3: the cost function is not fully converged 1.4010717868804932!\n"
     ]
    }
   ],
   "source": [
    "results = []\n",
    "for hyperparams in hyperparameter_combination_list:\n",
    "    averaged_kfold_valid_error = k_fold_cross_validation(X_training, Y_training, softmax_cost, hyperparams=hyperparams, k=4, rand_seed=0)\n",
    "    results.append((hyperparams, averaged_kfold_valid_error))"
   ]
  },
  {
   "cell_type": "code",
   "execution_count": 317,
   "id": "8c276647-eb8f-435e-8335-26e2f2c8febc",
   "metadata": {},
   "outputs": [
    {
     "data": {
      "text/plain": [
       "[((1.0, 10.0), 1.0),\n",
       " ((1.0, 5.0), 1.0),\n",
       " ((1.0, 2.0), 1.0),\n",
       " ((1.0, 0.1), 1.0),\n",
       " ((1.0, 0.01), 1.0),\n",
       " ((0.1, 10.0), 0.76785713),\n",
       " ((0.1, 5.0), 1.0),\n",
       " ((0.1, 2.0), 1.0),\n",
       " ((0.1, 0.1), 1.0),\n",
       " ((0.1, 0.01), 1.0),\n",
       " ((0.01, 10.0), 0.08928572),\n",
       " ((0.01, 5.0), 0.053571433),\n",
       " ((0.01, 2.0), 0.035714287),\n",
       " ((0.01, 0.1), 0.107142866),\n",
       " ((0.01, 0.01), 0.125),\n",
       " ((0.001, 10.0), 0.053571433),\n",
       " ((0.001, 5.0), 0.053571433),\n",
       " ((0.001, 2.0), 0.071428575),\n",
       " ((0.001, 0.1), 0.125),\n",
       " ((0.001, 0.01), 0.125)]"
      ]
     },
     "execution_count": 317,
     "metadata": {},
     "output_type": "execute_result"
    }
   ],
   "source": [
    "results"
   ]
  },
  {
   "cell_type": "markdown",
   "id": "710ef6b8-949a-430f-a21e-ef7f5e5ebd01",
   "metadata": {},
   "source": [
    "**the best hyperparameter set is: alpha=0.01, lambda=2.0**"
   ]
  },
  {
   "cell_type": "markdown",
   "id": "e9e2666b-1d6f-413a-afcf-8375600db654",
   "metadata": {},
   "source": [
    "# PCA sphering"
   ]
  },
  {
   "cell_type": "code",
   "execution_count": 270,
   "id": "7f84a267-4acd-48e4-a3c6-91dbeaa1cc7a",
   "metadata": {},
   "outputs": [
    {
     "data": {
      "text/plain": [
       "(7128, 72)"
      ]
     },
     "execution_count": 270,
     "metadata": {},
     "output_type": "execute_result"
    }
   ],
   "source": [
    "x.shape"
   ]
  },
  {
   "cell_type": "code",
   "execution_count": 273,
   "id": "a470c05e-84d9-43b4-b365-e54a34bc5f9f",
   "metadata": {},
   "outputs": [],
   "source": [
    "x_center = center(x)\n",
    "kwargs = {'lam':1e-7}\n",
    "x_pca, V = pca_transform_data(x_center, **kwargs)\n",
    "x_pac_scale = ( x_pca.T  / x_pca.std(axis=1) ).T\n",
    "x_pac_scale = jnp.nan_to_num(x_pac_scale, nan=0)"
   ]
  },
  {
   "cell_type": "code",
   "execution_count": 274,
   "id": "1ac0124e-c921-4f61-b5b1-556f47edc5e3",
   "metadata": {},
   "outputs": [
    {
     "data": {
      "text/plain": [
       "(7128, 72)"
      ]
     },
     "execution_count": 274,
     "metadata": {},
     "output_type": "execute_result"
    }
   ],
   "source": [
    "x_pac_scale.shape"
   ]
  },
  {
   "cell_type": "code",
   "execution_count": 275,
   "id": "00ba186b-015c-43d7-b930-a58c2a5f0947",
   "metadata": {},
   "outputs": [],
   "source": [
    "X_training_pca, X_testing_pca = train_test_split(x_pac_scale, test_size=0.2, shuffle=True, rand_seed=0)\n",
    "Y_training, Y_testing = train_test_split(y, test_size=0.2, shuffle=True, rand_seed=0)"
   ]
  },
  {
   "cell_type": "code",
   "execution_count": 312,
   "id": "8789dd7f-2a68-4783-bedc-78f87c140e60",
   "metadata": {},
   "outputs": [
    {
     "data": {
      "text/plain": [
       "0.05357143"
      ]
     },
     "execution_count": 312,
     "metadata": {},
     "output_type": "execute_result"
    }
   ],
   "source": [
    "k_fold_cross_validation(X_training_pca, Y_training, softmax_cost, hyperparams=(1e-3, 1e-2), k=4, rand_seed=0)"
   ]
  },
  {
   "cell_type": "markdown",
   "id": "6f9e568e-945d-4711-8e0c-497cb8475f76",
   "metadata": {},
   "source": [
    "**PCA sphering can get a better training, however it could be hard to inteprete the importance of weights**"
   ]
  },
  {
   "cell_type": "markdown",
   "id": "56ddd94f-cd73-4e41-a0bb-5ea83565721a",
   "metadata": {},
   "source": [
    "# Training using alpha=0.01, lambda=2.0"
   ]
  },
  {
   "cell_type": "code",
   "execution_count": 325,
   "id": "d5711334-7229-4e94-a1d3-8ef9d78640a6",
   "metadata": {},
   "outputs": [],
   "source": [
    "w_history, cost_history = gradient_descent_adam(softmax_cost, X_training, Y_training, w_initial=None,\\\n",
    "                                        alpha=0.01, lamb=2.0, iterations=100)"
   ]
  },
  {
   "cell_type": "code",
   "execution_count": 329,
   "id": "a5fe832a-a6d4-4220-94c3-8269211756aa",
   "metadata": {},
   "outputs": [
    {
     "data": {
      "image/png": "[encoded data removed]",
      "text/plain": [
       "<Figure size 800x600 with 1 Axes>"
      ]
     },
     "metadata": {},
     "output_type": "display_data"
    }
   ],
   "source": [
    "fig, ax = plt.subplots(1, 1, figsize=(8, 6))\n",
    "ax.plot(cost_history, \"go-\")\n",
    "ax.set_xlabel(\"Iterations\", fontsize=16)\n",
    "ax.set_ylabel(\"Cost\", fontsize=16)\n",
    "ax.tick_params(axis='both', which='major', labelsize=16)\n",
    "ax.set_title(\"Cost history plot\", fontsize=16)\n",
    "plt.grid()\n",
    "plt.tight_layout()\n",
    "plt.show()"
   ]
  },
  {
   "cell_type": "markdown",
   "id": "5ae46a62-07ce-49d5-99dd-8a04392727a3",
   "metadata": {},
   "source": [
    "# Accuracy of the final model on the testing data set"
   ]
  },
  {
   "cell_type": "code",
   "execution_count": 332,
   "id": "56c593ed-24d5-4d1e-b579-37bbee73d7d4",
   "metadata": {},
   "outputs": [
    {
     "data": {
      "text/plain": [
       "DeviceArray(0., dtype=float32)"
      ]
     },
     "execution_count": 332,
     "metadata": {},
     "output_type": "execute_result"
    }
   ],
   "source": [
    "eval_model_error(w_history[-1], X_testing, Y_testing)"
   ]
  },
  {
   "cell_type": "markdown",
   "id": "7a48608a-0363-4049-b6b0-8085c3dc889a",
   "metadata": {},
   "source": [
    "**Final error is 0%**"
   ]
  },
  {
   "cell_type": "markdown",
   "id": "eb011265-6f02-4d95-a813-de70e16b98dd",
   "metadata": {},
   "source": [
    "# The most important feature"
   ]
  },
  {
   "cell_type": "code",
   "execution_count": 366,
   "id": "ec428e0e-3451-49b1-be97-da6c70cf9976",
   "metadata": {},
   "outputs": [
    {
     "data": {
      "image/png": "[encoded data removed]",
      "text/plain": [
       "<Figure size 1000x600 with 1 Axes>"
      ]
     },
     "metadata": {},
     "output_type": "display_data"
    }
   ],
   "source": [
    "final_feature_touching_weights = w_history[-1][1:]\n",
    "fig, ax = fig, ax = plt.subplots(1,1, figsize=(10,6))\n",
    "ax.plot(final_feature_touching_weights, \"o\", markersize=4)\n",
    "\n",
    "indices = np.argsort(-final_feature_touching_weights)\n",
    "for i in range(5):\n",
    "    ax.plot(indices[i], final_feature_touching_weights[indices[i]], \"o\", color=\"r\", markersize=8)\n",
    "    ax.text(indices[i]-800, final_feature_touching_weights[indices[i]]-0.02, f\"Top {i+1}, index={indices[i]+1}\",\\\n",
    "            fontsize=10, color='red', ha='left', va='bottom')\n",
    "ax.set_xlabel(\"Feature index (gene)\", fontsize=16)\n",
    "ax.set_ylabel(\"Weight value\", fontsize=16)\n",
    "ax.set_title(\"The top 5 important features\")\n",
    "plt.show()"
   ]
  },
  {
   "cell_type": "markdown",
   "id": "7f88a8c3-dc9b-430a-b168-74bd622c92fe",
   "metadata": {},
   "source": [
    "**As shown by the figure, the 2354, 804, 6854, 4211 and 2642 genes are the top 5 important genes for the classification**"
   ]
  },
  {
   "cell_type": "code",
   "execution_count": null,
   "id": "9c64984f-8c4c-431d-81a1-610b7c57624c",
   "metadata": {},
   "outputs": [],
   "source": []
  }
 ],
 "metadata": {
  "kernelspec": {
   "display_name": "Python 3 (ipykernel)",
   "language": "python",
   "name": "python3"
  },
  "language_info": {
   "codemirror_mode": {
    "name": "ipython",
    "version": 3
   },
   "file_extension": ".py",
   "mimetype": "text/x-python",
   "name": "python",
   "nbconvert_exporter": "python",
   "pygments_lexer": "ipython3",
   "version": "3.8.16"
  }
 },
 "nbformat": 4,
 "nbformat_minor": 5
}
